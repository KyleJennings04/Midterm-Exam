{
 "cells": [
  {
   "cell_type": "markdown",
   "metadata": {},
   "source": [
    "# Intro to Computer Programming - Midterm Exam - Fall 2024 - Wilmington College\n",
    "## Due Date: October 31, 2024, 23:59\n",
    "\n",
    "Dear Students,\n",
    "\n",
    "Welcome to Midterm Exam for the Intro to Computer Programming course.\n",
    "\n",
    "**Submission Instructions:**\n",
    "Please complete the midterm exam and submit it to the Blackboard. In case you encounter any issues or have questions, feel free to seek assistance from me.\n",
    "\n",
    "**Alternative Submission:**\n",
    "If, for any reason, you are unable to use BB, you can submit your work via email. If you face any challenges, don't hesitate to reach out."
   ]
  },
  {
   "cell_type": "markdown",
   "metadata": {},
   "source": [
    "### Problem 1: Student Grade Calculator\n",
    "**(25 Marks)**  \n",
    "Write a function named `calculate_grade()`. The function should take a list of numerical scores as input and return the average score and a corresponding letter grade. The letter grade should be assigned based on the average score using the following scale:\n",
    "- A: 90-100\n",
    "- B: 80-89\n",
    "- C: 70-79\n",
    "- D: 60-69\n",
    "- F: Below 60\n",
    "\n",
    "*Example input:*  \n",
    "`[85, 92, 78, 88, 95]`\n",
    "\n",
    "*Expected output:*  \n",
    "`Average Score: 87.6, Grade: B`"
   ]
  },
  {
   "cell_type": "code",
   "execution_count": 1,
   "metadata": {},
   "outputs": [
    {
     "name": "stdout",
     "output_type": "stream",
     "text": [
      "Average score: 87.6, Grade: B\n",
      "Average score: 67.5, Grade: D\n",
      "Average score: 81.9, Grade: B\n"
     ]
    }
   ],
   "source": [
    "# -------------------- Solution ----------------------- #\n",
    "# Write your code here:\n",
    "def calculate_grade(list):\n",
    "    total_score = 0 \n",
    "    count = 0\n",
    "    for i in list:\n",
    "        total_score += i\n",
    "        count += 1\n",
    "    avg_score = round(total_score / count, 1)\n",
    "    if avg_score >= 90:\n",
    "        print(f\"Average score: {avg_score}, Grade: A\")\n",
    "    elif avg_score >= 80 and avg_score <= 89:\n",
    "        print(f\"Average score: {avg_score}, Grade: B\")\n",
    "    elif avg_score >= 70 and avg_score <= 79:\n",
    "        print(f\"Average score: {avg_score}, Grade: C\")\n",
    "    elif avg_score >= 60 and avg_score <= 69:\n",
    "        print(f\"Average score: {avg_score}, Grade: D\")\n",
    "    else:\n",
    "        print(f\"Average score: {avg_score}, Grade: F\")\n",
    "scores_1 = [85, 92, 78, 88, 95]\n",
    "scores_2 = [52, 57, 69, 92]\n",
    "scores_3 = [60, 75, 77, 81, 88, 94, 98]\n",
    "calculate_grade(scores_1)\n",
    "calculate_grade(scores_2)\n",
    "calculate_grade(scores_3)\n"
   ]
  },
  {
   "cell_type": "markdown",
   "metadata": {},
   "source": [
    "### Problem 2: Simple ATM Simulation\n",
    "**(40 Marks)**  \n",
    "Create a simple ATM program with the following functionalities:\n",
    "1. Allow the user to input their PIN (for simplicity, just use \"1234\").\n",
    "2. Prompt the user for an action: \"Check Balance\", \"Deposit\", or \"Withdraw\".\n",
    "3. Implement each action using functions:\n",
    "   - `check_balance(balance)`: Prints the current balance.\n",
    "   - `deposit(balance, amount)`: Adds the deposit amount to the balance and returns the new balance.\n",
    "   - `withdraw(balance, amount)`: Subtracts the withdrawal amount from the balance (if sufficient funds are available) and returns the new balance.\n",
    "\n",
    "*Example session:*  \n",
    "- User inputs the correct PIN.  \n",
    "- User chooses \"Check Balance\".  \n",
    "- Output: `Current balance: $100`.  \n",
    "- User chooses \"Withdraw\" and inputs $30.  \n",
    "- Output: `Withdrawal successful! New balance: $70`."
   ]
  },
  {
   "cell_type": "code",
   "execution_count": 5,
   "metadata": {},
   "outputs": [
    {
     "name": "stdout",
     "output_type": "stream",
     "text": [
      "Options:\n",
      " Check Balance\n",
      " Deposit\n",
      " Withdraw\n",
      "Current balance: $100\n",
      "Withdraw successful! New balance: $70.\n",
      "Have a nice day!\n"
     ]
    }
   ],
   "source": [
    "# -------------------- Solution ----------------------- #\n",
    "# Write your code here:\n",
    "def check_balance(balance):\n",
    "    print(f\"Current balance: ${balance}\")\n",
    "def deposit(balance, amount):\n",
    "    balance += amount\n",
    "    print(f\"Deposit successful! New balance: ${balance}.\")\n",
    "def withdraw(balance, amount):\n",
    "    if balance - amount < 0:\n",
    "        print(\"Cannot withdraw that amount. Not enough money in account.\")\n",
    "    else:\n",
    "        balance -= amount\n",
    "        print(f\"Withdraw successful! New balance: ${balance}.\")\n",
    "pin = int(input(\"Enter your PIN: \"))\n",
    "while pin != 1234:\n",
    "    pin = int(input(\"Wrong PIN. Enter your PIN: \"))\n",
    "print(f\"Options:\\n Check Balance\\n Deposit\\n Withdraw\")\n",
    "balance = 100\n",
    "option = input(\"Select an option (choose stop to exit): \")\n",
    "while option != \"stop\":\n",
    "    if option == \"Check Balance\":\n",
    "        check_balance(balance)\n",
    "        option = input(\"Select an option (choose stop to exit): \")\n",
    "    elif option == \"Deposit\":\n",
    "        deposit_amount = int(input(\"How much would you like to deposit? \"))\n",
    "        deposit(balance, deposit_amount)\n",
    "        option = input(\"Select an option (choose stop to exit): \")\n",
    "    elif option == \"Withdraw\":\n",
    "        withdraw_amount = int(input(\"How much would you like to withdraw? \"))\n",
    "        withdraw(balance, withdraw_amount)\n",
    "        option = input(\"Select an option (choose stop to exit): \")\n",
    "    else:\n",
    "        option = input(\"None selected. Please select an option (choose stop to exit): \")\n",
    "print(\"Have a nice day!\")\n"
   ]
  },
  {
   "cell_type": "markdown",
   "metadata": {},
   "source": [
    "### Problem 3: Number Guessing Game\n",
    "**(25 Marks)**  \n",
    "Develop a simple number guessing game. The program should:\n",
    "1. Generate a random number between 1 and 100.\n",
    "2. Prompt the user to guess the number.\n",
    "3. Give hints if the guess is too high or too low.\n",
    "4. Keep track of the number of attempts until the user guesses the correct number.\n",
    "\n",
    "*Example interaction:*  \n",
    "- Random number is 42.  \n",
    "- User guesses 50 → Output: \"Too high!\"  \n",
    "- User guesses 30 → Output: \"Too low!\"  \n",
    "- User guesses 42 → Output: \"Correct! It took you 3 attempts.\""
   ]
  },
  {
   "cell_type": "code",
   "execution_count": 9,
   "metadata": {},
   "outputs": [
    {
     "name": "stdout",
     "output_type": "stream",
     "text": [
      "Too High!\n",
      "Too High!\n",
      "Too High!\n",
      "Too High!\n",
      "Too High!\n",
      "Too High!\n",
      "Too Low!\n",
      "Correct! It took you 10 attempts.\n"
     ]
    }
   ],
   "source": [
    "# -------------------- Solution ----------------------- #\n",
    "# Write your code here:\n",
    "import random \n",
    "number = random.randint(1, 100)\n",
    "guess = int(input(\"Guess the number: \"))\n",
    "attempts = 0\n",
    "while guess != number:\n",
    "    if guess > number:\n",
    "        print(\"Too High!\")\n",
    "        guess = int(input(\"Guess the number: \"))\n",
    "        attempts += 1\n",
    "    elif guess < number:\n",
    "        print(\"Too Low!\")\n",
    "        guess = int(input(\"Guess the number: \"))\n",
    "        attempts += 1\n",
    "print(f\"Correct! It took you {attempts} attempts.\")\n"
   ]
  },
  {
   "cell_type": "markdown",
   "metadata": {},
   "source": [
    "### Problem 4: Subscription Management\n",
    "**(10 Marks)**  \n",
    "Write a program that allows users to manage their subscriptions. Create a function `manage_subscription(tier=\"Basic\", name=\"Guest\", msg=\"\")` which:\n",
    "1. Prompts the user to enter their subscription tier (default to \"Basic\").\n",
    "2. Asks for their name (default to \"Guest\").\n",
    "3. Requests an optional message from the subscriber (default to an empty string).\n",
    "4. Prints a confirmation message showing the details of the subscription.\n",
    "\n",
    "*Example input:*  \n",
    "`manage_subscription(\"Premium\", \"Alex\", \"Excited to join!\")`\n",
    "\n",
    "*Expected output:*  \n",
    "`Alex subscribed to Premium tier: Excited to join!`"
   ]
  },
  {
   "cell_type": "code",
   "execution_count": 12,
   "metadata": {},
   "outputs": [
    {
     "name": "stdout",
     "output_type": "stream",
     "text": [
      "Alex subscribed to Premium tier: Excited to join!\n",
      "Kyle subscribed to Basic tier: \n",
      "Guest subscribed to Wilmington Quakers tier: We are number 1!\n"
     ]
    }
   ],
   "source": [
    "# -------------------- Solution ----------------------- #\n",
    "# Write your code here:\n",
    "def manage_subscription(tier=\"Basic\", name=\"Guest\", msg=\"\"):\n",
    "    print(f\"{name} subscribed to {tier} tier: {msg}\")\n",
    "manage_subscription(\"Premium\", \"Alex\", \"Excited to join!\")\n",
    "manage_subscription(\"Basic\", \"Kyle\")\n",
    "manage_subscription(msg = \"We are number 1!\", tier = \"Wilmington Quakers\")\n"
   ]
  }
 ],
 "metadata": {
  "kernelspec": {
   "display_name": "Python 3",
   "language": "python",
   "name": "python3"
  },
  "language_info": {
   "codemirror_mode": {
    "name": "ipython",
    "version": 3
   },
   "file_extension": ".py",
   "mimetype": "text/x-python",
   "name": "python",
   "nbconvert_exporter": "python",
   "pygments_lexer": "ipython3",
   "version": "3.12.1"
  }
 },
 "nbformat": 4,
 "nbformat_minor": 2
}
